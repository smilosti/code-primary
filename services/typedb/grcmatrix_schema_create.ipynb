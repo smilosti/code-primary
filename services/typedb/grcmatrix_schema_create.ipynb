{
 "cells": [
  {
   "cell_type": "code",
   "execution_count": 18,
   "id": "5eaec5c1-988b-4700-b672-08eaeea499e9",
   "metadata": {},
   "outputs": [
    {
     "name": "stdout",
     "output_type": "stream",
     "text": [
      "Database 'grc_matrix' created successfully.\n",
      "Schema defined successfully.\n"
     ]
    }
   ],
   "source": [
    "from typedb.driver import TypeDB, SessionType, TransactionType\n",
    "\n",
    "# Connect to TypeDB, create the schema, and disconnect\n",
    "def create_schema():\n",
    "    # Connect to TypeDB server\n",
    "    with TypeDB.core_driver(\"localhost:1729\") as driver:\n",
    "        # Access the database manager\n",
    "        databases = driver.databases\n",
    "\n",
    "        # Create a new database if it doesn't exist\n",
    "        if not databases.contains(\"grc_matrix\"):\n",
    "            databases.create(\"grc_matrix\")\n",
    "            print(\"Database 'grc_matrix' created successfully.\")\n",
    "        else:\n",
    "            print(\"Database 'grc_matrix' already exists.\")\n",
    "        \n",
    "        # Define the schema\n",
    "        with driver.session(\"grc_matrix\", SessionType.SCHEMA) as session:\n",
    "            with session.transaction(TransactionType.WRITE) as transaction:\n",
    "                schema_query = '''\n",
    "                define\n",
    "                # Define top levels\n",
    "                GRCMatrix sub entity;\n",
    "                Operations sub GRCMatrix;\n",
    "                Regulations sub GRCMatrix;\n",
    "\n",
    "                # Define frameworks\n",
    "                Frameworks sub Operations;\n",
    "                NISTFramework sub Frameworks;\n",
    "                CSAFramework sub Frameworks;\n",
    "                AICPAFramework sub Frameworks;\n",
    "                FedRAMPFramework sub Frameworks;\n",
    "\n",
    "                # Define National regulatory interests\n",
    "                Zones sub Regulations; \n",
    "                USZone sub Zones;\n",
    "                EUZone sub Zones;\n",
    "                UKZone sub Zones;\n",
    "\n",
    "                # Define regulatory bodies/agencies\n",
    "                # US\n",
    "                CFTC sub USZone;\n",
    "                FederalReserve sub USZone;\n",
    "                FinCEN sub USZone;\n",
    "                OCC sub USZone;\n",
    "                SEC sub USZone;\n",
    "                \n",
    "                # EU\n",
    "                EBA sub EUZone;\n",
    "                ECB sub EUZone;\n",
    "                ESMA sub EUZone;\n",
    "                ESRB sub EUZone;\n",
    "                \n",
    "                # UK\n",
    "                FCA sub UKZone;\n",
    "                FRC sub UKZone;\n",
    "                PRA sub UKZone;\n",
    "                '''\n",
    "                transaction.query.define(schema_query)\n",
    "                transaction.commit()\n",
    "                print(\"Schema defined successfully.\")\n",
    "\n",
    "# Run the schema creation function\n",
    "create_schema()\n"
   ]
  },
  {
   "cell_type": "code",
   "execution_count": null,
   "id": "41618aa7-ee08-446b-9abc-4cf404161390",
   "metadata": {},
   "outputs": [],
   "source": []
  }
 ],
 "metadata": {
  "kernelspec": {
   "display_name": "Python 3 (ipykernel)",
   "language": "python",
   "name": "python3"
  },
  "language_info": {
   "codemirror_mode": {
    "name": "ipython",
    "version": 3
   },
   "file_extension": ".py",
   "mimetype": "text/x-python",
   "name": "python",
   "nbconvert_exporter": "python",
   "pygments_lexer": "ipython3",
   "version": "3.10.12"
  }
 },
 "nbformat": 4,
 "nbformat_minor": 5
}
