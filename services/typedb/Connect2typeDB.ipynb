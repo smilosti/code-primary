{
 "cells": [
  {
   "cell_type": "code",
   "execution_count": 45,
   "id": "05504258-0f6a-4e5a-840a-b283ca9d99b3",
   "metadata": {},
   "outputs": [
    {
     "name": "stdout",
     "output_type": "stream",
     "text": [
      "Imports successful.\n",
      "Database 'test_db' already exists.\n",
      "Schema defined successfully.\n",
      "Inserted entity into 'test_db'.\n",
      "Retrieved entity with name: John Doe\n",
      "Database 'test_db' deleted successfully.\n"
     ]
    }
   ],
   "source": [
    "# Import libraries\n",
    "import pandas as pd\n",
    "from typedb.driver import TypeDB, SessionType, TransactionType\n",
    "import torch\n",
    "\n",
    "print(\"Imports successful.\")\n",
    "\n",
    "# Connect to TypeDB\n",
    "try:\n",
    "    with TypeDB.core_driver(\"localhost:1729\") as driver:\n",
    "        # Access the database manager\n",
    "        databases = driver.databases\n",
    "\n",
    "        # Create a new database\n",
    "        try:\n",
    "            if not databases.contains(\"test_db\"):\n",
    "                databases.create(\"test_db\")\n",
    "                print(\"Database 'test_db' created successfully.\")\n",
    "            else:\n",
    "                print(\"Database 'test_db' already exists.\")\n",
    "        except Exception as e:\n",
    "            print(f\"Error creating database: {e}\")\n",
    "\n",
    "        # Open a session to the new database\n",
    "        with driver.session(\"test_db\", SessionType.SCHEMA) as session:\n",
    "            # Start a transaction to define the schema\n",
    "            with session.transaction(TransactionType.WRITE) as transaction:\n",
    "                # Define the schema\n",
    "                schema_query = '''\n",
    "                define\n",
    "                person sub entity,\n",
    "                    owns name;\n",
    "                name sub attribute,\n",
    "                    value string;\n",
    "                '''\n",
    "                transaction.query.define(schema_query)\n",
    "                transaction.commit()\n",
    "                print(\"Schema defined successfully.\")\n",
    "\n",
    "        # Open a session to the new database\n",
    "        with driver.session(\"test_db\", SessionType.DATA) as session:\n",
    "            # Start a transaction to insert data\n",
    "            with session.transaction(TransactionType.WRITE) as transaction:\n",
    "                # Insert a simple entity\n",
    "                insert_query = 'insert $x isa person, has name \"John Doe\";'\n",
    "                transaction.query.insert(insert_query)\n",
    "                transaction.commit()\n",
    "                print(\"Inserted entity into 'test_db'.\")\n",
    "\n",
    "            # Start a transaction to read data\n",
    "            with session.transaction(TransactionType.READ) as transaction:\n",
    "                match_query = 'match $x isa person, has name $n; get $n;'\n",
    "                result_iterator = transaction.query.get(match_query)\n",
    "                for result in result_iterator:\n",
    "                    print(\"Retrieved entity with name:\", result.get(\"n\").get_value())\n",
    "\n",
    "        # Delete the test database\n",
    "        try:\n",
    "            if databases.contains(\"test_db\"):\n",
    "                databases.get(\"test_db\").delete()\n",
    "                print(\"Database 'test_db' deleted successfully.\")\n",
    "            else:\n",
    "                print(\"Database 'test_db' does not exist.\")\n",
    "        except Exception as e:\n",
    "            print(f\"Error deleting database: {e}\")\n",
    "\n",
    "except Exception as e:\n",
    "    print(f\"Error: {e}\")\n"
   ]
  },
  {
   "cell_type": "code",
   "execution_count": 46,
   "id": "271583e0-2200-4f7d-8958-b1da6d8da1f8",
   "metadata": {},
   "outputs": [
    {
     "name": "stdout",
     "output_type": "stream",
     "text": [
      "Name: typedb-driver\n",
      "Version: 2.28.1\n",
      "Summary: TypeDB Driver for Python\n",
      "Home-page: https://github.com/vaticle/typedb-driver-python/\n",
      "Author: Vaticle\n",
      "Author-email: community@vaticle.com\n",
      "License: Apache-2.0\n",
      "Location: /usr/local/lib/python3.10/dist-packages\n",
      "Requires: parse\n",
      "Required-by: \n"
     ]
    }
   ],
   "source": [
    "!pip show typedb-driver"
   ]
  },
  {
   "cell_type": "code",
   "execution_count": null,
   "id": "4aec7e38-f602-43f0-b1d0-d4294f469b81",
   "metadata": {},
   "outputs": [],
   "source": []
  }
 ],
 "metadata": {
  "kernelspec": {
   "display_name": "Python 3 (ipykernel)",
   "language": "python",
   "name": "python3"
  },
  "language_info": {
   "codemirror_mode": {
    "name": "ipython",
    "version": 3
   },
   "file_extension": ".py",
   "mimetype": "text/x-python",
   "name": "python",
   "nbconvert_exporter": "python",
   "pygments_lexer": "ipython3",
   "version": "3.10.12"
  }
 },
 "nbformat": 4,
 "nbformat_minor": 5
}
