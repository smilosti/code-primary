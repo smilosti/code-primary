{
 "cells": [
  {
   "cell_type": "code",
   "execution_count": 11,
   "id": "4ca800ed-69db-40f2-9f0c-9e39784ffbda",
   "metadata": {},
   "outputs": [
    {
     "name": "stdout",
     "output_type": "stream",
     "text": [
      "All attributes undefined successfully.\n"
     ]
    }
   ],
   "source": [
    "from typedb.driver import TypeDB, SessionType, TransactionType, TypeDBDriverException\n",
    "import time\n",
    "\n",
    "def delete_all_attributes():\n",
    "    for attempt in range(3):  # Retry up to 3 times\n",
    "        try:\n",
    "            with TypeDB.core_driver(\"localhost:1729\") as driver:\n",
    "                databases = driver.databases\n",
    "\n",
    "                # Ensure the database exists\n",
    "                if not databases.contains(\"grc_matrix\"):\n",
    "                    print(\"Database 'grc_matrix' does not exist.\")\n",
    "                    return\n",
    "\n",
    "                # Proceed with the schema session\n",
    "                with driver.session(\"grc_matrix\", SessionType.SCHEMA) as session:\n",
    "                    with session.transaction(TransactionType.WRITE) as transaction:\n",
    "                        # List of all attributes to be deleted\n",
    "                        attributes = [\n",
    "                            \"ctrl_domain\", \"ctrl_title\", \"ctrl_id\", \"ctrl_specification\",\n",
    "                            \"ctrl_maps2_aicpa_tsc_2017_ctrls\", \"ctrl_maps2_aicpa_tsc_2017_gap\",\n",
    "                            \"ctrl_maps2_aicpa_tsc_2017_addendum\", \"ctrl_maps2_ccm3_0_1_ctrls\",\n",
    "                            \"ctrl_maps2_ccm3_0_1_gap\", \"ctrl_maps2_ccm3_0_1_addendum\",\n",
    "                            \"ctrl_maps2_cis_v8_0_ctrls\", \"ctrl_maps2_cis_v8_0_gap\",\n",
    "                            \"ctrl_maps2_cis_v8_0_addendum\", \"ctrl_maps2_isf_sogp_2022_ctrls\",\n",
    "                            \"ctrl_maps2_isf_sogp_2022_gap\", \"ctrl_maps2_isf_sogp_2022_addendum\",\n",
    "                            \"ctrl_maps2_iso_27001_2_17_18_pre2022_ctrls\", \"ctrl_maps2_iso_27001_2_17_18_pre2022_gap\",\n",
    "                            \"ctrl_maps2_iso_27001_2_17_18_pre2022_addendum\", \"ctrl_maps2_iso_27001_2_2022_ctrls\",\n",
    "                            \"ctrl_maps2_iso_27001_2_2022_gap\", \"ctrl_maps2_iso_27001_2_2022_addendum\",\n",
    "                            \"ctrl_maps2_nist_800_r5_ctrls\", \"ctrl_maps2_nist_800_r5_gap\",\n",
    "                            \"ctrl_maps2_nist_800_r5_addendum\", \"ctrl_maps2_nist_csf_v1_1_ctrls\",\n",
    "                            \"ctrl_maps2_nist_csf_v1_1_gap\", \"ctrl_maps2_nist_csf_v1_1_addendum\",\n",
    "                            \"ctrl_maps2_nist_csf_v2_0_ctrls\", \"ctrl_maps2_nist_csf_v2_0_gap\",\n",
    "                            \"ctrl_maps2_nist_csf_v2_0_addendum\", \"ctrl_maps2_pci_dss_v3_2_1_ctrls\",\n",
    "                            \"ctrl_maps2_pci_dss_v3_2_1_gap\", \"ctrl_maps2_pci_dss_v3_2_1_addendum\",\n",
    "                            \"ctrl_maps2_pci_dss_v4_0_ctrls\", \"ctrl_maps2_pci_dss_v4_0_gap\",\n",
    "                            \"ctrl_maps2_pci_dss_v4_0_addendum\"\n",
    "                        ]\n",
    "\n",
    "                        # Undefine each attribute type\n",
    "                        for attr in attributes:\n",
    "                            undefine_query = f'undefine {attr} sub attribute;'\n",
    "                            transaction.query.undefine(undefine_query)\n",
    "\n",
    "                        transaction.commit()\n",
    "                        print(\"All attributes undefined successfully.\")\n",
    "                        return  # Exit the function if successful\n",
    "        except TypeDBDriverException as e:\n",
    "            print(f\"Attempt {attempt + 1} failed: {e}\")\n",
    "            if attempt < 2:\n",
    "                time.sleep(5)  # Wait for 5 seconds before retrying\n",
    "            else:\n",
    "                raise\n",
    "\n",
    "# Run the deletion function\n",
    "delete_all_attributes()\n"
   ]
  },
  {
   "cell_type": "code",
   "execution_count": null,
   "id": "eb8dd78c-5c6d-4152-9e9f-cc7de02b46a6",
   "metadata": {},
   "outputs": [],
   "source": []
  }
 ],
 "metadata": {
  "kernelspec": {
   "display_name": "Python 3 (ipykernel)",
   "language": "python",
   "name": "python3"
  },
  "language_info": {
   "codemirror_mode": {
    "name": "ipython",
    "version": 3
   },
   "file_extension": ".py",
   "mimetype": "text/x-python",
   "name": "python",
   "nbconvert_exporter": "python",
   "pygments_lexer": "ipython3",
   "version": "3.10.12"
  }
 },
 "nbformat": 4,
 "nbformat_minor": 5
}
