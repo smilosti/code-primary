{
 "cells": [
  {
   "cell_type": "markdown",
   "id": "e71501b7",
   "metadata": {},
   "source": [
    "Step 1: Creating the Schema"
   ]
  },
  {
   "cell_type": "code",
   "execution_count": 7,
   "id": "f2d9cbfd",
   "metadata": {},
   "outputs": [
    {
     "name": "stdout",
     "output_type": "stream",
     "text": [
      "Database 'grc_matrix' created successfully.\n",
      "Schema defined successfully.\n"
     ]
    }
   ],
   "source": [
    "from typedb.driver import TypeDB, SessionType, TransactionType\n",
    "\n",
    "# Function to create the schema\n",
    "def create_schema():\n",
    "    with TypeDB.core_driver(\"localhost:1729\") as driver:\n",
    "        # Create a new database if it doesn't exist\n",
    "        databases = driver.databases\n",
    "        if not databases.contains(\"grc_matrix\"):\n",
    "            databases.create(\"grc_matrix\")\n",
    "            print(\"Database 'grc_matrix' created successfully.\")\n",
    "        else:\n",
    "            print(\"Database 'grc_matrix' already exists.\")\n",
    "        \n",
    "        # Define the schema\n",
    "        with driver.session(\"grc_matrix\", SessionType.SCHEMA) as session:\n",
    "            with session.transaction(TransactionType.WRITE) as transaction:\n",
    "                schema_query = '''\n",
    "                define\n",
    "                # Define top levels\n",
    "                GRCMatrix sub entity;\n",
    "                Operations sub GRCMatrix;\n",
    "                Regulations sub GRCMatrix;\n",
    "\n",
    "                # Define frameworks\n",
    "                Frameworks sub Operations;\n",
    "                NISTFramework sub Frameworks;\n",
    "                CSAFramework sub Frameworks;\n",
    "                AICPAFramework sub Frameworks;\n",
    "                FedRAMPFramework sub Frameworks;\n",
    "\n",
    "                # Define Framework subs - standards and/or versions\n",
    "                CCM4_0_12 sub CSAFramework;\n",
    "                sp800_53b_baselines sub NISTFramework;\n",
    "                sp800_53r5_baselines sub NISTFramework;\n",
    "                \n",
    "                # Define National regulatory interests\n",
    "                Zones sub Regulations; \n",
    "                USZone sub Zones;\n",
    "                EUZone sub Zones;\n",
    "                UKZone sub Zones;\n",
    "\n",
    "                # Define regulatory bodies/agencies\n",
    "                # US\n",
    "                CFTC sub USZone;\n",
    "                FederalReserve sub USZone;\n",
    "                FinCEN sub USZone;\n",
    "                OCC sub USZone;\n",
    "                SEC sub USZone;\n",
    "                \n",
    "                # EU\n",
    "                EBA sub EUZone;\n",
    "                ECB sub EUZone;\n",
    "                ESMA sub EUZone;\n",
    "                ESRB sub EUZone;\n",
    "                \n",
    "                # UK\n",
    "                FCA sub UKZone;\n",
    "                FRC sub UKZone;\n",
    "                PRA sub UKZone;\n",
    "                '''\n",
    "                transaction.query.define(schema_query)\n",
    "                transaction.commit()\n",
    "                print(\"Schema defined successfully.\")\n",
    "\n",
    "# Run the schema creation function\n",
    "create_schema()\n"
   ]
  },
  {
   "cell_type": "markdown",
   "id": "37d48e68",
   "metadata": {},
   "source": [
    "Step 2: Extending the Schema"
   ]
  },
  {
   "cell_type": "code",
   "execution_count": 89,
   "id": "65d9d96b",
   "metadata": {},
   "outputs": [
    {
     "name": "stdout",
     "output_type": "stream",
     "text": [
      "Schema extended successfully.\n"
     ]
    }
   ],
   "source": [
    "from typedb.driver import TypeDB, SessionType, TransactionType\n",
    "\n",
    "# Function to extend the schema\n",
    "def extend_schema():\n",
    "    with TypeDB.core_driver(\"localhost:1729\") as driver:\n",
    "        with driver.session(\"grc_matrix\", SessionType.SCHEMA) as session:\n",
    "            with session.transaction(TransactionType.WRITE) as transaction:\n",
    "                schema_extension_query = '''\n",
    "                define\n",
    "                Control sub entity,\n",
    "                    plays has_control:control,\n",
    "                    plays has_name:control,\n",
    "                    owns sp800_53r5_ctlog_ctrl_specification,\n",
    "                    owns sp800_53r5_ctlog_ctrl_guidance,\n",
    "                    owns sp800_53r5_ctlog_ctrl_related_ctrls;\n",
    "\n",
    "                ctrl_id sub entity,\n",
    "                    owns sp800_53r5_ctlog_ctrl_id;\n",
    "\n",
    "                ctrl_domain sub entity,\n",
    "                    plays has_control:domain,\n",
    "                    owns sp800_53r5_ctlog_ctrl_domain;\n",
    "\n",
    "                ctrl_name sub entity,\n",
    "                    plays has_name:name,\n",
    "                    owns sp800_53r5_ctlog_ctrl_name;\n",
    "\n",
    "                sp800_53r5_ctlog_ctrl_id sub attribute, value string;\n",
    "                sp800_53r5_ctlog_ctrl_domain sub attribute, value string;\n",
    "                sp800_53r5_ctlog_ctrl_name sub attribute, value string;\n",
    "                sp800_53r5_ctlog_ctrl_specification sub attribute, value string;\n",
    "                sp800_53r5_ctlog_ctrl_guidance sub attribute, value string;\n",
    "                sp800_53r5_ctlog_ctrl_related_ctrls sub attribute, value string;\n",
    "\n",
    "                has_control sub relation,\n",
    "                    relates control,\n",
    "                    relates domain;\n",
    "\n",
    "                has_name sub relation,\n",
    "                    relates control,\n",
    "                    relates name;\n",
    "                \n",
    "                '''\n",
    "                transaction.query.define(schema_extension_query)\n",
    "                transaction.commit()\n",
    "                print(\"Schema extended successfully.\")\n",
    "\n",
    "# Run the schema extension function\n",
    "extend_schema()\n"
   ]
  },
  {
   "cell_type": "markdown",
   "id": "0718c9fe",
   "metadata": {},
   "source": [
    "Step 3: Import CSV Data"
   ]
  },
  {
   "cell_type": "code",
   "execution_count": 22,
   "id": "6f407a83",
   "metadata": {},
   "outputs": [
    {
     "name": "stdout",
     "output_type": "stream",
     "text": [
      "Data inserted successfully.\n"
     ]
    }
   ],
   "source": [
    "import pandas as pd\n",
    "from typedb.driver import TypeDB, SessionType, TransactionType\n",
    "\n",
    "# Load CSV data\n",
    "df = pd.read_csv(r'/workspaces/code/services/typedb/sp800-53r5-control-catalog.csv')\n",
    "\n",
    "# Function to insert data from the DataFrame into TypeDB\n",
    "def insert_data_from_csv():\n",
    "    with TypeDB.core_driver(\"localhost:1729\") as driver:\n",
    "        with driver.session(\"grc_matrix\", SessionType.DATA) as session:\n",
    "            with session.transaction(TransactionType.WRITE) as transaction:\n",
    "                for index, row in df.iterrows():\n",
    "                    insert_query = f'''\n",
    "                    insert\n",
    "                        $control isa Control,\n",
    "                            has sp800_53r5_ctlog_ctrl_specification \"{row['sp800_53r5_ctlog_ctrl_specification']}\",\n",
    "                            has sp800_53r5_ctlog_ctrl_guidance \"{row['sp800_53r5_ctlog_ctrl_guidance']}\",\n",
    "                            has sp800_53r5_ctlog_ctrl_related_ctrls \"{row['sp800_53r5_ctlog_ctrl_related_ctrls']}\";\n",
    "                        $ctrl_id isa ctrl_id,\n",
    "                            has sp800_53r5_ctlog_ctrl_id \"{row['sp800_53r5_ctlog_ctrl_id']}\";\n",
    "                        $ctrl_domain isa ctrl_domain,\n",
    "                            has sp800_53r5_ctlog_ctrl_domain \"{row['sp800_53r5_ctlog_ctrl_domain']}\";\n",
    "                        $ctrl_name isa ctrl_name,\n",
    "                            has sp800_53r5_ctlog_ctrl_name \"{row['sp800_53r5_ctlog_ctrl_name']}\";\n",
    "                        (control: $control, domain: $ctrl_domain) isa has_control;\n",
    "                        (control: $control, name: $ctrl_name) isa has_name;\n",
    "                    '''\n",
    "                    transaction.query.insert(insert_query)\n",
    "                transaction.commit()\n",
    "                print(\"Data inserted successfully.\")\n",
    "\n",
    "# Run the data insertion function\n",
    "insert_data_from_csv()\n"
   ]
  }
 ],
 "metadata": {
  "kernelspec": {
   "display_name": "Python 3",
   "language": "python",
   "name": "python3"
  },
  "language_info": {
   "codemirror_mode": {
    "name": "ipython",
    "version": 3
   },
   "file_extension": ".py",
   "mimetype": "text/x-python",
   "name": "python",
   "nbconvert_exporter": "python",
   "pygments_lexer": "ipython3",
   "version": "3.10.12"
  }
 },
 "nbformat": 4,
 "nbformat_minor": 5
}
